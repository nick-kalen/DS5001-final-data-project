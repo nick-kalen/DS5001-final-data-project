{
 "cells": [
  {
   "cell_type": "markdown",
   "id": "edf86d6b-ea35-420b-b1ec-670c4aeac7e9",
   "metadata": {},
   "source": [
    "# DS 5001 Final Report\n",
    "#### Nick Kalenichenko (nhk6up@virginia.edu) DS 5001 Spring 2023"
   ]
  },
  {
   "cell_type": "markdown",
   "id": "837161a3-2d53-4e28-895b-c4fe55cc67ff",
   "metadata": {},
   "source": [
    "## 1. Introduction"
   ]
  },
  {
   "cell_type": "markdown",
   "id": "76f74515-f7cd-4ab6-89ab-bbb16d8f8092",
   "metadata": {},
   "source": [
    "The corpus contains each book in JK Rowling's Harry Potter books. My analysis is coming from someone who has never read the books nor seen the movies, who is trying to extract as much information about the books as possible through text analytics. To do this, I will use dispersion plots, similarity analysis, hierarchical clustering, correlation plots, and tsne plots."
   ]
  },
  {
   "cell_type": "markdown",
   "id": "d91a8b80-094b-483a-9a1e-a4a77f1f9e29",
   "metadata": {},
   "source": [
    "## 2. Source Data "
   ]
  },
  {
   "cell_type": "markdown",
   "id": "5a2b8e49-5c33-40ea-8e53-9d1ed0a25851",
   "metadata": {},
   "source": [
    "### 1. Provenance\n",
    "The data came from: https://github.com/prakhar21/whiteboard/tree/master/nbviewer/notebooks/data/harrypotter\n",
    "\n",
    "This is a github repo containing text files for all of the Harry Potter books."
   ]
  },
  {
   "cell_type": "markdown",
   "id": "2341030b-b9c7-40c4-92e5-eb14ab56626e",
   "metadata": {},
   "source": [
    "### 2. Location\n",
    "https://virginia.box.com/s/uqzk085yu73wog9o0ych8uc4n8ael3kk"
   ]
  },
  {
   "cell_type": "markdown",
   "id": "77583000-ac49-4511-9db1-e10bca0193c0",
   "metadata": {},
   "source": [
    "### 3. Description"
   ]
  },
  {
   "cell_type": "markdown",
   "id": "8c291e6d-6063-4c7c-a251-cb9ba2a296b6",
   "metadata": {},
   "source": [
    "The general subject matter of the corpus is Harry Potter, which is a fictional book series about magic and spells. There are 7 books (observations) in the corpus, and the average book length is 189055 tokens."
   ]
  },
  {
   "cell_type": "markdown",
   "id": "68979b7a-6a40-4d32-b320-dade9501123f",
   "metadata": {},
   "source": [
    "### 4. Format"
   ]
  },
  {
   "cell_type": "markdown",
   "id": "6cdbfae6-f964-4096-9e81-ef3795b1a4da",
   "metadata": {},
   "source": [
    "The format of the source file formats is plaintext (.txt) files."
   ]
  },
  {
   "cell_type": "markdown",
   "id": "b49d0328-cd84-4974-91e9-711d86678780",
   "metadata": {},
   "source": [
    "## 3. Data Model"
   ]
  },
  {
   "cell_type": "markdown",
   "id": "dce9c403-e56d-4d44-819b-49a9af71f2dc",
   "metadata": {},
   "source": [
    "All tables can be found in the `tables` folder in the github directory\n",
    "\n",
    "- **LIB**: https://github.com/nick-kalen/DS5001-final-data-project/blob/main/tables/LIB.csv\n",
    "    - book_id: ID of book\n",
    "    - title: title of book\n",
    "    - chapter_regex: regex used for chapter in book\n",
    "    - book_len: number of tokens in book\n",
    "    - nb_chaps: # of chapters\n",
    "    - kendall_sum: kendall_sum metric used for correlation heatmap\n",
    "- **CORPUS**: https://github.com/nick-kalen/DS5001-final-data-project/blob/main/tables/CORPUS.csv.zip\n",
    "    - INDEX: book_id, chap_num, para_num, sent_num, token_num\n",
    "    - pos_tuple: token string with part of speech\n",
    "    - pos: part of speech\n",
    "    - token_str: token string\n",
    "    - term_str: token string (no formatting)\n",
    "- **VOCAB**: https://github.com/nick-kalen/DS5001-final-data-project/blob/main/tables/VOCAB.csv\n",
    "    - n: number of occurences\n",
    "    - p: probability of term occuring\n",
    "    - i: information for each term\n",
    "    - n_chars: number of characters in word\n",
    "    - max_pos: highest part of speech for word\n",
    "    - n_pos: how many parts of speech word has\n",
    "    - cat_pos: set of parts of speech for the word\n",
    "    - stop: boolean of if it is a stop word\n",
    "    - stem_porter: porter method of stem for word\n",
    "    - stem_snowball: snowball method of stem for word\n",
    "    - stem_lancaster: lancaster method of stem for word\n",
    "    - dfidf: global boolean term entropy\n",
    "    - mean_tfidf: average tfidf for the word in a document\n",
    "\n",
    "These are our core tables, and in the github repo in the same `tables` folder you can see the [document and components](https://github.com/nick-kalen/DS5001-final-data-project/blob/main/tables/DCM_pca.csv), and [loadings](https://github.com/nick-kalen/DS5001-final-data-project/blob/main/tables/LOADINGS_pca.csv) table that were used for PCA, as well as our [document and topics](https://github.com/nick-kalen/DS5001-final-data-project/blob/main/tables/THETA_lda.csv), and [topics and term counts](https://github.com/nick-kalen/DS5001-final-data-project/blob/main/tables/PHI_lda.csv) tables used for LDA. I have also included the [Word2Vec](https://github.com/nick-kalen/DS5001-final-data-project/blob/main/tables/VOCAB_w2v.csv) csv file, as well as the [sentiment and emotion values](https://github.com/nick-kalen/DS5001-final-data-project/blob/main/tables/VOCAB_sentiment.csv) as features of vocab table, and the [sentiment polarity and emotions table](https://github.com/nick-kalen/DS5001-final-data-project/blob/main/tables/BOOK_sentiment.csv) for each document. While PCA and LDA are not talked about in this report, the code that was used to generate these models are in the exploratory data analytics notebook. All of these tables follow the standards we learned in class, and follow the examples learned in the example code provided in the class GitHub.\n"
   ]
  },
  {
   "cell_type": "markdown",
   "id": "dd0e5a77-bf6d-4617-9777-1a17ff115860",
   "metadata": {},
   "source": [
    "## 4. Exploration"
   ]
  },
  {
   "cell_type": "markdown",
   "id": "e938f2d8-688b-47dc-92b3-d8ec3a58607c",
   "metadata": {},
   "source": [
    "To kick off my exploration, I decided to look at the t-distributed stochastic neighbor embedding to glean information from the different clusters. To create this plot, I used the TSNE function with parameters: perplexity=20, n_components=2, init='random', n_iter=1000, random_state=42, learning_rate = 200"
   ]
  },
  {
   "cell_type": "markdown",
   "id": "196edd7f-441b-4019-b610-80a8c65a95aa",
   "metadata": {},
   "source": [
    "![](pictures/tsne.jpg)"
   ]
  },
  {
   "cell_type": "markdown",
   "id": "d1259995-29dc-4395-8e1d-13058a042d77",
   "metadata": {},
   "source": [
    "While the words do not appear, I noticed that this cluster contained many proper nouns. Harry was the leftmost dot, and next to him were the words: **professor, Herimione, Ron, Snape, Dumbledore, Neville, Percy, Jon, and Fred**. Knowing that Harry is the main character, my first impression is that these are his friends and family, and people who are for him. What also leads me in this direction is that in the cluster right above the red box, there is another cluster of proper nouns that contains Voldemort (who I know is evil). The names around Voldemort are: **Parvati, Crookshanks, Mundungus, Fleur, and Parvati**. These names also sound different than the first group that contain some more traditional names, like Jon, whereas these names are all very unique."
   ]
  },
  {
   "cell_type": "markdown",
   "id": "0dd6a13e-4ca6-452a-8d6b-38a9f1f6ba0e",
   "metadata": {},
   "source": [
    "For further exploration into the characters, I decided to use the Word2Vec model with window=2, vector_size=256, and min_count=80. I used the analogy `Harry: light, Voldemort: ___` which gave me the results: dark, stone, witches, hidden, and against. This shows that Voldemort is indeed a bad guy in this series, which is one of the only things I know about Harry Potter. Instead of analogies, I got the most similar words for Ron using the code below: "
   ]
  },
  {
   "cell_type": "markdown",
   "id": "9436f9aa-8180-4418-b8f1-9f0fc92dac3e",
   "metadata": {},
   "source": [
    "![](pictures/ron_output.jpg)"
   ]
  },
  {
   "cell_type": "markdown",
   "id": "feffd596-4c39-4cfd-a5b1-1f7c285b869b",
   "metadata": {},
   "source": [
    "His associated words are all weird words unlike the words that were returned with Voldemort, making me think that Ron either is a part of a group with really weird names, or maybe he uses a lot of spells. My inclination is that he uses spells because most of these words are not even English. But then again, I do not know the language used in Harry Potter spells, so this can be an interesting area of further investigation. Next, we will take a look at how similar each of the books are by using hierarchical clustering."
   ]
  },
  {
   "cell_type": "markdown",
   "id": "d8c15122-c019-42df-97c1-bf8b5225d14f",
   "metadata": {},
   "source": [
    "![](pictures/HAC.jpg)"
   ]
  },
  {
   "cell_type": "markdown",
   "id": "ed6acdf6-da92-4874-8903-5cab98c8bad9",
   "metadata": {},
   "source": [
    "### Correlation Heatmap"
   ]
  },
  {
   "cell_type": "markdown",
   "id": "067433a8-dfbe-4dad-8f4c-733e47876f6f",
   "metadata": {},
   "source": [
    "![](pictures/corr.jpg)"
   ]
  },
  {
   "cell_type": "markdown",
   "id": "f00b88ff-6f1f-4809-b339-015d09c3c81a",
   "metadata": {},
   "source": [
    "From this dendogram, we can see that the third and seventh book are the most similar, and they form a cluster with the 5th book as well. This is interesting because our hierarchical model found that every other book was similar for this cluster. Up at the top of the graph, we can see that the first 2 books also form a cluster. This intuitively makes sense, because JK Rowling likely wrote in the same style during her first few books, where she can then switch up the tone or bring in new characters as the plot develops. This model also found that books 4 and 6 were similar, which can be an area for further investigation. What is interesting is that when I looked up the order of the books online to interpret the dendrogram, I found the books in order with their movie pictures on the front. The first two movie covers seemed to have many more characters in the background, whereas in the later movies there seems to be only the 3 main characters. This matches with our dendograms, so maybe the Harry Potter series follows something along the lines of Lord of the Rings where at first there are many characters, but then by the end a majority of the story follows Frodo and Sam. \n",
    "\n",
    "Our correlation heatmap on the books agrees with the dendrograms that book 1 and 2 are related, but does not agree well with the other observations. This is likely because this heatmap was calculated using the top 1000 terms from the tfidf, whereas the HAC is calculated using our bag of words.\n",
    "\n",
    "Next I will explore how some characters from our first exploration (voldemort, dumbledore, ron, and parvati) plays into the sentiment of each book."
   ]
  },
  {
   "cell_type": "markdown",
   "id": "0acb0a30-3048-44df-b351-9bda7fb0d9ff",
   "metadata": {},
   "source": [
    "![](pictures/book1.jpg)\n",
    "![](pictures/book2.jpg)\n",
    "![](pictures/book3.jpg)\n",
    "![](pictures/book4.jpg)\n",
    "![](pictures/book5.jpg)\n",
    "![](pictures/book6.jpg)\n",
    "![](pictures/book7.jpg)"
   ]
  },
  {
   "cell_type": "markdown",
   "id": "4e62b6e2-2b32-4e24-adfb-09cd79c6d93a",
   "metadata": {},
   "source": [
    "It is apparent that Harry is the main character of all the books from the dispersion plots. Ron and Dumbledore seem to also be a somewhat main character as they are alongside Harry in parts that he is mentioned. The Crookshanks appear in book 3, but then are mentioned scarcely, alongside the mundungus who are introduced in book 2 but then make their appearence for a second time in book 4. More interesting, Voldemort is mentioned rarely in book 1, but then appears at only the beginning and end of book 2. This indicates that there was probably a cliffhanger in book 2, as in book 3 he starts to appear more regularly. He appears in somewhat regular time intervals in book 5 and 6, making me think that JK rowling probably cuts to his plot somewhat frequently throughout these books. In the last book, he is mentioned very often most likely due to the rising action and climax of the plot."
   ]
  },
  {
   "cell_type": "markdown",
   "id": "a710d56f-f65c-4ae3-96ae-e0ee6e17bf92",
   "metadata": {},
   "source": [
    "## 5. Interpretation"
   ]
  },
  {
   "cell_type": "markdown",
   "id": "4309fb99-31f8-479b-b60c-f961b796ebc4",
   "metadata": {},
   "source": [
    "Although I have never read a Harry Potter book or watched the movies, I feel as though I have learned about the books through this project. The correlation heatmap and hierarchical clustering helped lead me to see that there is a divide in JK Rowlings books, as the first 2 books are similar in language compared to the rest, according to the models. From the t-SNE plot, I was able to get an idea of what the character names are, which I was then able to put into the `most_similar()` function to learn more about each character. I confirmed that Voldemort is bad based on this, and then expanded to other characters like Harry or Ron to see what words are most similar to theirs based on our model. Finally, I used dispersion plots to see the occurence of characters across each book. This shows me how the plot in Harry Potter works, with the story being about him and some other main characters (Ron and Dumbledore), and the evil Voldemort appearing in regular intervals in most of the books, with his presence increasing until the last book. I found my analytics to be interesting and insightful, and am happy with what I have learned about a novel I have never read. Now that I am done, I might have to go watch the film with my project group or read the books this summer."
   ]
  },
  {
   "cell_type": "markdown",
   "id": "f85588da-f298-4fb6-a6cc-44270c55d0ea",
   "metadata": {},
   "source": [
    "***Use `jupyter nbconvert FINAL_REPORT.ipynb --no-input --to html` to convert to html***"
   ]
  }
 ],
 "metadata": {
  "kernelspec": {
   "display_name": "Python 3 (ipykernel)",
   "language": "python",
   "name": "python3"
  },
  "language_info": {
   "codemirror_mode": {
    "name": "ipython",
    "version": 3
   },
   "file_extension": ".py",
   "mimetype": "text/x-python",
   "name": "python",
   "nbconvert_exporter": "python",
   "pygments_lexer": "ipython3",
   "version": "3.9.16"
  }
 },
 "nbformat": 4,
 "nbformat_minor": 5
}
